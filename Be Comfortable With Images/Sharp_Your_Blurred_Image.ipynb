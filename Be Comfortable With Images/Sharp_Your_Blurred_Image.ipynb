{
 "cells": [
  {
   "cell_type": "code",
   "execution_count": 1,
   "id": "77920054",
   "metadata": {},
   "outputs": [],
   "source": [
    "import cv2"
   ]
  },
  {
   "cell_type": "code",
   "execution_count": null,
   "id": "17757cdf",
   "metadata": {},
   "outputs": [],
   "source": [
    "import cv2\n",
    "import numpy as np\n",
    "\n",
    "# Image load karo\n",
    "img = cv2.imread('img1.jpg')\n",
    "\n",
    "# Sharpening kernel define karo\n",
    "kernel = np.array([[0, -1, 0],\n",
    "                   [-1, 9, -1],\n",
    "                   [0, -1, 0]])\n",
    "\n",
    "\n",
    "# Filter apply karo\n",
    "sharpened = cv2.filter2D(src=img, ddepth=-1, kernel=kernel)\n",
    "\n",
    "# Result show karo\n",
    "cv2.imshow('Original', img)\n",
    "cv2.imshow('Sharpened', sharpened)\n",
    "cv2.waitKey(0)\n",
    "cv2.destroyAllWindows()\n"
   ]
  },
  {
   "cell_type": "code",
   "execution_count": null,
   "id": "0255fdd4",
   "metadata": {},
   "outputs": [],
   "source": []
  }
 ],
 "metadata": {
  "kernelspec": {
   "display_name": "Python 3",
   "language": "python",
   "name": "python3"
  },
  "language_info": {
   "codemirror_mode": {
    "name": "ipython",
    "version": 3
   },
   "file_extension": ".py",
   "mimetype": "text/x-python",
   "name": "python",
   "nbconvert_exporter": "python",
   "pygments_lexer": "ipython3",
   "version": "3.12.8"
  }
 },
 "nbformat": 4,
 "nbformat_minor": 5
}
