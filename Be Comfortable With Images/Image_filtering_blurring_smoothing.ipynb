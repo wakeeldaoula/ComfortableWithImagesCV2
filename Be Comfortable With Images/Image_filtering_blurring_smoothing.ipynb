{
 "cells": [
  {
   "cell_type": "markdown",
   "id": "506e0ff5",
   "metadata": {},
   "source": [
    "Image Filtering (Smoothing/Blurring)"
   ]
  },
  {
   "cell_type": "code",
   "execution_count": 2,
   "id": "ad1b7b57",
   "metadata": {},
   "outputs": [],
   "source": [
    "import cv2"
   ]
  },
  {
   "cell_type": "code",
   "execution_count": 3,
   "id": "2d739ba9",
   "metadata": {},
   "outputs": [],
   "source": [
    "img = cv2.imread('img1.jpg')\n",
    "cv2.imshow('Original Image', img)\n",
    "cv2.waitKey(0) # infinite wait for key press\n",
    "cv2.destroyAllWindows() # close all windows\n"
   ]
  },
  {
   "cell_type": "code",
   "execution_count": null,
   "id": "4e8c4350",
   "metadata": {},
   "outputs": [],
   "source": [
    "# Blur\n",
    "blur = cv2.blur(img, (50,50)) # 50*50 kernel size\n",
    "cv2.imshow(\"Blured image\", blur)\n",
    "cv2.waitKey(0) \n",
    "cv2.destroyAllWindows()"
   ]
  },
  {
   "cell_type": "code",
   "execution_count": null,
   "id": "41a7ca8a",
   "metadata": {},
   "outputs": [],
   "source": [
    "gaussian = cv2.GaussianBlur(img, (5,5), 0)\n",
    "\n",
    "cv2.imshow('Gaussian Blur', gaussian)\n",
    "cv2.waitKey(0)\n",
    "cv2.destroyAllWindows()\n",
    "# Gaussian Blur average blur se better hota hai.\n",
    "# Ye pixel ke aas paas Gaussian distribution ke hisaab se weights assign karta hai.\n"
   ]
  },
  {
   "cell_type": "code",
   "execution_count": null,
   "id": "c984e438",
   "metadata": {},
   "outputs": [],
   "source": [
    "median = cv2.medianBlur(img, 5)\n",
    "\n",
    "cv2.imshow('Median Blur', median)\n",
    "cv2.waitKey(0)\n",
    "cv2.destroyAllWindows()\n",
    "# Median blur noise (especially salt & pepper noise) remove karne mein best hai.\n",
    "# Kernel size odd integer hona chahiye (3,5,7,...).\n"
   ]
  },
  {
   "cell_type": "code",
   "execution_count": null,
   "id": "ae3fb4bb",
   "metadata": {},
   "outputs": [],
   "source": [
    "# Manual Filtering (Convolution)\n",
    "# Puri image ko blur karo.\n",
    "# Phir ROI wali original (clear) image ka hisa ROI area me daal do, jisse woh area clear dikhega aur baaki sab blurred."
   ]
  },
  {
   "cell_type": "code",
   "execution_count": null,
   "id": "89269d0b",
   "metadata": {},
   "outputs": [
    {
     "data": {
      "text/plain": [
       "-1"
      ]
     },
     "execution_count": 12,
     "metadata": {},
     "output_type": "execute_result"
    }
   ],
   "source": [
    "blured_image = cv2.blur(img, (50,50), 0)\n",
    "r = cv2.selectROI(\"Select ROI\", img, fromCenter=False, showCrosshair=True) # r = x,y,w,h\n",
    "roi = img[int(r[1]):int(r[1]+r[3]), int(r[0]):int(r[0]+r[2])]\n",
    "blured_image[int(r[1]):int(r[1]+r[3]), int(r[0]):int(r[0]+r[2])] = roi\n",
    "cv2.imshow(\"Manual Filtered Image\", blured_image)\n",
    "cv2.waitKey(0)\n",
    "# VIPPPPPPPPPPPPP"
   ]
  },
  {
   "cell_type": "code",
   "execution_count": null,
   "id": "0bd7ea9c",
   "metadata": {},
   "outputs": [],
   "source": []
  }
 ],
 "metadata": {
  "kernelspec": {
   "display_name": "Python 3",
   "language": "python",
   "name": "python3"
  },
  "language_info": {
   "codemirror_mode": {
    "name": "ipython",
    "version": 3
   },
   "file_extension": ".py",
   "mimetype": "text/x-python",
   "name": "python",
   "nbconvert_exporter": "python",
   "pygments_lexer": "ipython3",
   "version": "3.12.8"
  }
 },
 "nbformat": 4,
 "nbformat_minor": 5
}
