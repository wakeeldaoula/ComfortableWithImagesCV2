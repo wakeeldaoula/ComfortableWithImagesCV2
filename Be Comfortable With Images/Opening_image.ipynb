{
 "cells": [
  {
   "cell_type": "code",
   "execution_count": null,
   "id": "300de821",
   "metadata": {},
   "outputs": [],
   "source": [
    "import cv2\n",
    "\n",
    "# Image path sahi do\n",
    "img = cv2.imread(\"img1.jpg\")  # Make sure image file exists in same folder as script\n",
    "\n",
    "# Check if image is loaded\n",
    "if img is None:\n",
    "    print(\"Error: Image not found. Path check karo!\")\n",
    "else:\n",
    "    cv2.imshow(\"My Image\", img)\n",
    "    cv2.waitKey(0)\n",
    "    cv2.destroyAllWindows()\n",
    "# cv2.imshow() ek window open karta hai\n",
    "# Agar tum cv2.waitKey(0) nahi likhte, to window immediately close hone ki koshish karti hai ya OS ke event loop me hang ho jaati hai\n",
    "# Phir cv2.destroyAllWindows() nahi likhne se window ka memory handle free nahi hota, isliye kabhi kabhi kernel crash ya freeze ho jata hai\n",
    "# cv2.waitKey() ka kaam\n",
    "# Function: ye OpenCV window ka \"event loop\" chalata hai aur keyboard input ka wait karta hai\n",
    "# Parameter: integer hota hai → time in milliseconds (ms)\n",
    "# 0 → infinite wait (jab tak koi key press na kare, window wahi rahegi)\n",
    "# 10 → 10 milliseconds wait karega, phir aage code chala dega (window turant band lagti hai kyunki aage ka code execute hota hai)"
   ]
  },
  {
   "cell_type": "code",
   "execution_count": null,
   "id": "4ca5b793",
   "metadata": {},
   "outputs": [],
   "source": []
  }
 ],
 "metadata": {
  "kernelspec": {
   "display_name": "Python 3",
   "language": "python",
   "name": "python3"
  },
  "language_info": {
   "codemirror_mode": {
    "name": "ipython",
    "version": 3
   },
   "file_extension": ".py",
   "mimetype": "text/x-python",
   "name": "python",
   "nbconvert_exporter": "python",
   "pygments_lexer": "ipython3",
   "version": "3.12.8"
  }
 },
 "nbformat": 4,
 "nbformat_minor": 5
}
