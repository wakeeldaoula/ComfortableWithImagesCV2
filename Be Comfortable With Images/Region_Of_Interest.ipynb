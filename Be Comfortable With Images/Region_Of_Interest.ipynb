{
 "cells": [
  {
   "cell_type": "markdown",
   "id": "6ca72d42",
   "metadata": {},
   "source": [
    "Image ROI(Region of Interest)"
   ]
  },
  {
   "cell_type": "code",
   "execution_count": 1,
   "id": "69b20d82",
   "metadata": {},
   "outputs": [],
   "source": [
    "import cv2"
   ]
  },
  {
   "cell_type": "code",
   "execution_count": 2,
   "id": "bf9dde90",
   "metadata": {},
   "outputs": [],
   "source": [
    "img = cv2.imread('img1.jpg', 0) # 0 ka matlab hai grayscale image\n",
    "cv2.imshow('Original Image', img)\n",
    "cv2.waitKey(0)\n",
    "cv2.destroyAllWindows()"
   ]
  },
  {
   "cell_type": "code",
   "execution_count": 3,
   "id": "a70048d9",
   "metadata": {},
   "outputs": [],
   "source": [
    "roi = img[100:400, 200:400] # yahan hum image ka ek region le rahe hain\n",
    "cv2.imshow(\"ROI\", roi)\n",
    "cv2.waitKey(0)\n",
    "cv2.destroyAllWindows()"
   ]
  },
  {
   "cell_type": "code",
   "execution_count": 5,
   "id": "2a4e9f73",
   "metadata": {},
   "outputs": [],
   "source": [
    "# Since we don't know that where the specific pixels lie like if we are interested in seeing the lips of \n",
    "# a person(cute person) then we how we know the exact lips pixels. To solve this problem we use manual roi \n",
    "# selection using the mouse.\n",
    "r = cv2.selectROI('Select Lips', img, fromCenter=False, showCrosshair=True) \n",
    "# fromCenter=False means we can select the roi from any corner,\n",
    "# showCrosshair=True means we can see the crosshair while selecting the roi.\n",
    "# r returns (x, y, w, h)\n",
    "roi = img[int(r[1]):int(r[1]+r[3]), int(r[0]):int(r[0]+r[2])]\n",
    "cv2.imshow(\"Selected ROI\", roi)\n",
    "cv2.waitKey(0)\n",
    "cv2.destroyAllWindows()"
   ]
  },
  {
   "cell_type": "code",
   "execution_count": null,
   "id": "932fc62c",
   "metadata": {},
   "outputs": [],
   "source": []
  }
 ],
 "metadata": {
  "kernelspec": {
   "display_name": "Python 3",
   "language": "python",
   "name": "python3"
  },
  "language_info": {
   "codemirror_mode": {
    "name": "ipython",
    "version": 3
   },
   "file_extension": ".py",
   "mimetype": "text/x-python",
   "name": "python",
   "nbconvert_exporter": "python",
   "pygments_lexer": "ipython3",
   "version": "3.12.8"
  }
 },
 "nbformat": 4,
 "nbformat_minor": 5
}
