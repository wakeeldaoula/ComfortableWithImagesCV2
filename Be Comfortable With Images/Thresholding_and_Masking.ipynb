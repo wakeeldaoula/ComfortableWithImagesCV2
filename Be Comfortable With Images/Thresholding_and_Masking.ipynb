{
 "cells": [
  {
   "cell_type": "code",
   "execution_count": 1,
   "id": "257bc6ab",
   "metadata": {},
   "outputs": [],
   "source": [
    "import cv2"
   ]
  },
  {
   "cell_type": "code",
   "execution_count": null,
   "id": "6a1a1136",
   "metadata": {},
   "outputs": [],
   "source": [
    "# Thresholding ek simple technique hai jisme hum grayscale image ke pixels ko do groups mein divide karte hain:\n",
    "# Jo pixels ek certain value (threshold) se zyada hain, unko ek value assign karte hain (e.g., 255 - white)\n",
    "# Jo pixels threshold se kam hain, unko doosri value assign karte hain (e.g., 0 - black)\n",
    "# Isse binary image milti hai jisme sirf black and white hota hai."
   ]
  },
  {
   "cell_type": "code",
   "execution_count": 2,
   "id": "8ed41f18",
   "metadata": {},
   "outputs": [
    {
     "data": {
      "text/plain": [
       "-1"
      ]
     },
     "execution_count": 2,
     "metadata": {},
     "output_type": "execute_result"
    }
   ],
   "source": [
    "img = cv2.imread('img1.jpg', 0) # 0 ka matlab hai grayscale image\n",
    "cv2.imshow('Original Image', img)\n",
    "cv2.waitKey(0)  "
   ]
  },
  {
   "cell_type": "code",
   "execution_count": null,
   "id": "d8c5175a",
   "metadata": {},
   "outputs": [
    {
     "data": {
      "text/plain": [
       "-1"
      ]
     },
     "execution_count": 3,
     "metadata": {},
     "output_type": "execute_result"
    }
   ],
   "source": [
    "ret, thresh = cv2.threshold(img, 127, 255, cv2.THRESH_BINARY) # retval, dst = cv2.threshold(src, thresh, maxval, type)\n",
    "# retval OpenCV ke cv2.threshold() function ka return value hota hai jo generally threshold value ko return karta hai \n",
    "# jo function ne use kiya hai.\n",
    "cv2.imshow('Thresholded Image', thresh)\n",
    "cv2.waitKey(0)"
   ]
  },
  {
   "cell_type": "code",
   "execution_count": null,
   "id": "8a98996e",
   "metadata": {},
   "outputs": [
    {
     "name": "stdout",
     "output_type": "stream",
     "text": [
      "127.0\n"
     ]
    }
   ],
   "source": [
    "print(ret) # Print the threshold value used"
   ]
  },
  {
   "cell_type": "markdown",
   "id": "1e2b7141",
   "metadata": {},
   "source": [
    "Masking ka matlab hota hai image ke sirf kuch specific parts ko select karna ya highlight karna aur baaki hisay ignore karna.\n",
    "Yeh ek binary image hota hai (mask), jisme:\n",
    "White pixels (255) matlab yeh parts image mein dikhaye jaayenge (select honge)\n",
    "Black pixels (0) matlab yeh parts hide ya ignore honge\n",
    "Example samjho:\n",
    "Agar aapke paas ek photo hai aur aap sirf usmein se ek chehra highlight karna chahte ho, toh aap ek mask banaoge jisme sirf chehre ke area ko white rakha jaayega aur baaki sab black. Phir us mask ko original image ke saath apply karte ho, to sirf chehra dikhai dega, baaki area black ho jayega ya invisible."
   ]
  },
  {
   "cell_type": "code",
   "execution_count": 5,
   "id": "367e43d0",
   "metadata": {},
   "outputs": [],
   "source": [
    "import cv2"
   ]
  },
  {
   "cell_type": "code",
   "execution_count": 6,
   "id": "bed33ac7",
   "metadata": {},
   "outputs": [
    {
     "data": {
      "text/plain": [
       "-1"
      ]
     },
     "execution_count": 6,
     "metadata": {},
     "output_type": "execute_result"
    }
   ],
   "source": [
    "img = cv2.imread('img1.jpg', cv2.IMREAD_GRAYSCALE)  # Grayscale image read karte hain\n",
    "cv2.imshow('Original Image', img)\n",
    "cv2.waitKey(0)"
   ]
  },
  {
   "cell_type": "code",
   "execution_count": null,
   "id": "f6989beb",
   "metadata": {},
   "outputs": [
    {
     "data": {
      "text/plain": [
       "-1"
      ]
     },
     "execution_count": 15,
     "metadata": {},
     "output_type": "execute_result"
    }
   ],
   "source": [
    "import numpy as np\n",
    "# Mask create karo - black image with white circle in center\n",
    "mask = np.zeros(img.shape[:2], dtype=\"uint8\")\n",
    "# img.shape ek tuple hota hai jo image ka size deta hai, jaise (height, width, channels).\n",
    "# img.shape[:2] matlab sirf pehle do elements lena: (height, width)\n",
    "cv2.circle(mask, (img.shape[1]//2, img.shape[0]//2), 200, 255, -1)  # white circle\n",
    "# Yahan 100 radius hai circle ka.\n",
    "# Mask apply karo\n",
    "masked_img = cv2.bitwise_and(img, img, mask=mask)\n",
    "cv2.imshow(\"Masked Image\", masked_img)\n",
    "cv2.waitKey(0)"
   ]
  },
  {
   "cell_type": "code",
   "execution_count": null,
   "id": "42793a6f",
   "metadata": {},
   "outputs": [],
   "source": []
  }
 ],
 "metadata": {
  "kernelspec": {
   "display_name": "Python 3",
   "language": "python",
   "name": "python3"
  },
  "language_info": {
   "codemirror_mode": {
    "name": "ipython",
    "version": 3
   },
   "file_extension": ".py",
   "mimetype": "text/x-python",
   "name": "python",
   "nbconvert_exporter": "python",
   "pygments_lexer": "ipython3",
   "version": "3.12.8"
  }
 },
 "nbformat": 4,
 "nbformat_minor": 5
}
